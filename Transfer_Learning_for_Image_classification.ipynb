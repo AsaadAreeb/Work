{
  "nbformat": 4,
  "nbformat_minor": 0,
  "metadata": {
    "colab": {
      "provenance": [],
      "gpuType": "T4"
    },
    "kernelspec": {
      "name": "python3",
      "display_name": "Python 3"
    },
    "language_info": {
      "name": "python"
    },
    "accelerator": "GPU"
  },
  "cells": [
    {
      "cell_type": "markdown",
      "source": [
        "# Pre-trained Model: VGG16"
      ],
      "metadata": {
        "id": "y-dGfFo6UQki"
      }
    },
    {
      "cell_type": "markdown",
      "source": [
        "**VGG16: A Deep Convolutional Neural Network for Image Classification**\n",
        "\n",
        "**Key Features:**\n",
        "\n",
        "**16 Layers:** It has 13 convolutional layers and 3 fully connected layers, hence the name \"VGG16.\"\n",
        "\n",
        "**Small Filters:** It uses small 3x3 filters, stacked in succession for effective feature extraction.\n",
        "\n",
        "**Simple Architecture:** It maintains a consistent structure, making it easy to understand and implement.\n",
        "\n",
        "**ImageNet Training:** It's pre-trained on the massive ImageNet dataset, containing over 14 million images and 1000 classes.\n",
        "Architecture:"
      ],
      "metadata": {
        "id": "NDKFe39aVVW-"
      }
    },
    {
      "cell_type": "markdown",
      "source": [
        "**Architecture:**\n",
        "\n",
        "![archvgg.webp](data:image/webp;base64,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)"
      ],
      "metadata": {
        "id": "umH-saUfWIIs"
      }
    },
    {
      "cell_type": "markdown",
      "source": [
        "**Initial Use:**\n",
        "\n",
        "**Image Classification:** Its primary use was to classify images into 1000 different categories with high accuracy (92.7% on ImageNet).\n",
        "Feature Extraction: It's often used to extract meaningful features from images, which can then be used for other tasks like object detection, style transfer, and image generation."
      ],
      "metadata": {
        "id": "O7VoHjLuWK-i"
      }
    },
    {
      "cell_type": "markdown",
      "source": [
        "# Transfer Learning"
      ],
      "metadata": {
        "id": "BaOkvYC7Xgcb"
      }
    },
    {
      "cell_type": "markdown",
      "source": [
        "## Import Libraries"
      ],
      "metadata": {
        "id": "Pb_CVpibYUv6"
      }
    },
    {
      "cell_type": "code",
      "source": [
        "import tensorflow as tf\n",
        "from tensorflow.keras.applications import VGG16\n",
        "from tensorflow.keras.models import Model\n",
        "from tensorflow.keras.datasets import cifar10\n",
        "from tensorflow.keras.utils import to_categorical\n",
        "import matplotlib.pyplot as plt\n",
        "from sklearn.metrics import confusion_matrix\n",
        "from tensorflow.keras.layers import GlobalAveragePooling2D, Dense, Dropout\n",
        "from tensorflow.keras.optimizers import Adam\n",
        "from tensorflow.keras.preprocessing.image import ImageDataGenerator\n",
        "from tensorflow.keras.models import Sequential\n",
        "from tensorflow.keras.layers import Conv2D, MaxPooling2D, Flatten, Dense"
      ],
      "metadata": {
        "id": "XLQR80sPYaj9"
      },
      "execution_count": 1,
      "outputs": []
    },
    {
      "cell_type": "markdown",
      "source": [
        "## Loading the dataset"
      ],
      "metadata": {
        "id": "lXWI16LaYa-z"
      }
    },
    {
      "cell_type": "code",
      "source": [
        "(X_train, y_train), (X_test, y_test) = cifar10.load_data()"
      ],
      "metadata": {
        "id": "8iDNPFIYYnxn",
        "colab": {
          "base_uri": "https://localhost:8080/"
        },
        "outputId": "4fe41d9e-f5f4-43e8-8b9d-08718c70c22f"
      },
      "execution_count": 2,
      "outputs": [
        {
          "output_type": "stream",
          "name": "stdout",
          "text": [
            "Downloading data from https://www.cs.toronto.edu/~kriz/cifar-10-python.tar.gz\n",
            "170498071/170498071 [==============================] - 3s 0us/step\n"
          ]
        }
      ]
    },
    {
      "cell_type": "markdown",
      "source": [
        "## Preprocessing the dataset"
      ],
      "metadata": {
        "id": "0wzy3lEwYrqz"
      }
    },
    {
      "cell_type": "code",
      "source": [
        "# Normalizing\n",
        "X_train = X_train.astype('float32') / 255.0\n",
        "X_test = X_test.astype('float32') / 255.0\n",
        "\n",
        "# (one-hot encoding)\n",
        "y_train = to_categorical(y_train, 10)\n",
        "y_test = to_categorical(y_test, 10)"
      ],
      "metadata": {
        "id": "N588oATyYvZu"
      },
      "execution_count": 3,
      "outputs": []
    },
    {
      "cell_type": "code",
      "source": [
        "# VGG16 base model\n",
        "\n",
        "\n",
        "# Freezing initial layers\n",
        "\n",
        "\n",
        "\n",
        "\n",
        "# Data augmentation\n",
        "\n",
        "\n",
        "\n"
      ],
      "metadata": {
        "colab": {
          "base_uri": "https://localhost:8080/",
          "height": 425
        },
        "id": "8Wi22h89Hj1c",
        "outputId": "2bd0afcd-44ac-4694-8c01-2247e68a604d"
      },
      "execution_count": 5,
      "outputs": [
        {
          "output_type": "stream",
          "name": "stdout",
          "text": [
            "Epoch 1/30\n",
            "  80/1562 [>.............................] - ETA: 38:23 - loss: 2.0577 - accuracy: 0.2492"
          ]
        },
        {
          "output_type": "error",
          "ename": "KeyboardInterrupt",
          "evalue": "",
          "traceback": [
            "\u001b[0;31m---------------------------------------------------------------------------\u001b[0m",
            "\u001b[0;31mKeyboardInterrupt\u001b[0m                         Traceback (most recent call last)",
            "\u001b[0;32m<ipython-input-5-960c2def100e>\u001b[0m in \u001b[0;36m<cell line: 43>\u001b[0;34m()\u001b[0m\n\u001b[1;32m     41\u001b[0m \u001b[0;34m\u001b[0m\u001b[0m\n\u001b[1;32m     42\u001b[0m \u001b[0;31m# Train the model with data augmentation in batches\u001b[0m\u001b[0;34m\u001b[0m\u001b[0;34m\u001b[0m\u001b[0m\n\u001b[0;32m---> 43\u001b[0;31m history = model.fit(datagen.flow(X_train, y_train, batch_size=batch_size),\n\u001b[0m\u001b[1;32m     44\u001b[0m                   \u001b[0mepochs\u001b[0m\u001b[0;34m=\u001b[0m\u001b[0;36m30\u001b[0m\u001b[0;34m,\u001b[0m\u001b[0;34m\u001b[0m\u001b[0;34m\u001b[0m\u001b[0m\n\u001b[1;32m     45\u001b[0m                   \u001b[0msteps_per_epoch\u001b[0m\u001b[0;34m=\u001b[0m\u001b[0mX_train\u001b[0m\u001b[0;34m.\u001b[0m\u001b[0mshape\u001b[0m\u001b[0;34m[\u001b[0m\u001b[0;36m0\u001b[0m\u001b[0;34m]\u001b[0m \u001b[0;34m//\u001b[0m \u001b[0mbatch_size\u001b[0m\u001b[0;34m,\u001b[0m\u001b[0;34m\u001b[0m\u001b[0;34m\u001b[0m\u001b[0m\n",
            "\u001b[0;32m/usr/local/lib/python3.10/dist-packages/keras/src/utils/traceback_utils.py\u001b[0m in \u001b[0;36merror_handler\u001b[0;34m(*args, **kwargs)\u001b[0m\n\u001b[1;32m     63\u001b[0m         \u001b[0mfiltered_tb\u001b[0m \u001b[0;34m=\u001b[0m \u001b[0;32mNone\u001b[0m\u001b[0;34m\u001b[0m\u001b[0;34m\u001b[0m\u001b[0m\n\u001b[1;32m     64\u001b[0m         \u001b[0;32mtry\u001b[0m\u001b[0;34m:\u001b[0m\u001b[0;34m\u001b[0m\u001b[0;34m\u001b[0m\u001b[0m\n\u001b[0;32m---> 65\u001b[0;31m             \u001b[0;32mreturn\u001b[0m \u001b[0mfn\u001b[0m\u001b[0;34m(\u001b[0m\u001b[0;34m*\u001b[0m\u001b[0margs\u001b[0m\u001b[0;34m,\u001b[0m \u001b[0;34m**\u001b[0m\u001b[0mkwargs\u001b[0m\u001b[0;34m)\u001b[0m\u001b[0;34m\u001b[0m\u001b[0;34m\u001b[0m\u001b[0m\n\u001b[0m\u001b[1;32m     66\u001b[0m         \u001b[0;32mexcept\u001b[0m \u001b[0mException\u001b[0m \u001b[0;32mas\u001b[0m \u001b[0me\u001b[0m\u001b[0;34m:\u001b[0m\u001b[0;34m\u001b[0m\u001b[0;34m\u001b[0m\u001b[0m\n\u001b[1;32m     67\u001b[0m             \u001b[0mfiltered_tb\u001b[0m \u001b[0;34m=\u001b[0m \u001b[0m_process_traceback_frames\u001b[0m\u001b[0;34m(\u001b[0m\u001b[0me\u001b[0m\u001b[0;34m.\u001b[0m\u001b[0m__traceback__\u001b[0m\u001b[0;34m)\u001b[0m\u001b[0;34m\u001b[0m\u001b[0;34m\u001b[0m\u001b[0m\n",
            "\u001b[0;32m/usr/local/lib/python3.10/dist-packages/keras/src/engine/training.py\u001b[0m in \u001b[0;36mfit\u001b[0;34m(self, x, y, batch_size, epochs, verbose, callbacks, validation_split, validation_data, shuffle, class_weight, sample_weight, initial_epoch, steps_per_epoch, validation_steps, validation_batch_size, validation_freq, max_queue_size, workers, use_multiprocessing)\u001b[0m\n\u001b[1;32m   1805\u001b[0m                         ):\n\u001b[1;32m   1806\u001b[0m                             \u001b[0mcallbacks\u001b[0m\u001b[0;34m.\u001b[0m\u001b[0mon_train_batch_begin\u001b[0m\u001b[0;34m(\u001b[0m\u001b[0mstep\u001b[0m\u001b[0;34m)\u001b[0m\u001b[0;34m\u001b[0m\u001b[0;34m\u001b[0m\u001b[0m\n\u001b[0;32m-> 1807\u001b[0;31m                             \u001b[0mtmp_logs\u001b[0m \u001b[0;34m=\u001b[0m \u001b[0mself\u001b[0m\u001b[0;34m.\u001b[0m\u001b[0mtrain_function\u001b[0m\u001b[0;34m(\u001b[0m\u001b[0miterator\u001b[0m\u001b[0;34m)\u001b[0m\u001b[0;34m\u001b[0m\u001b[0;34m\u001b[0m\u001b[0m\n\u001b[0m\u001b[1;32m   1808\u001b[0m                             \u001b[0;32mif\u001b[0m \u001b[0mdata_handler\u001b[0m\u001b[0;34m.\u001b[0m\u001b[0mshould_sync\u001b[0m\u001b[0;34m:\u001b[0m\u001b[0;34m\u001b[0m\u001b[0;34m\u001b[0m\u001b[0m\n\u001b[1;32m   1809\u001b[0m                                 \u001b[0mcontext\u001b[0m\u001b[0;34m.\u001b[0m\u001b[0masync_wait\u001b[0m\u001b[0;34m(\u001b[0m\u001b[0;34m)\u001b[0m\u001b[0;34m\u001b[0m\u001b[0;34m\u001b[0m\u001b[0m\n",
            "\u001b[0;32m/usr/local/lib/python3.10/dist-packages/tensorflow/python/util/traceback_utils.py\u001b[0m in \u001b[0;36merror_handler\u001b[0;34m(*args, **kwargs)\u001b[0m\n\u001b[1;32m    148\u001b[0m     \u001b[0mfiltered_tb\u001b[0m \u001b[0;34m=\u001b[0m \u001b[0;32mNone\u001b[0m\u001b[0;34m\u001b[0m\u001b[0;34m\u001b[0m\u001b[0m\n\u001b[1;32m    149\u001b[0m     \u001b[0;32mtry\u001b[0m\u001b[0;34m:\u001b[0m\u001b[0;34m\u001b[0m\u001b[0;34m\u001b[0m\u001b[0m\n\u001b[0;32m--> 150\u001b[0;31m       \u001b[0;32mreturn\u001b[0m \u001b[0mfn\u001b[0m\u001b[0;34m(\u001b[0m\u001b[0;34m*\u001b[0m\u001b[0margs\u001b[0m\u001b[0;34m,\u001b[0m \u001b[0;34m**\u001b[0m\u001b[0mkwargs\u001b[0m\u001b[0;34m)\u001b[0m\u001b[0;34m\u001b[0m\u001b[0;34m\u001b[0m\u001b[0m\n\u001b[0m\u001b[1;32m    151\u001b[0m     \u001b[0;32mexcept\u001b[0m \u001b[0mException\u001b[0m \u001b[0;32mas\u001b[0m \u001b[0me\u001b[0m\u001b[0;34m:\u001b[0m\u001b[0;34m\u001b[0m\u001b[0;34m\u001b[0m\u001b[0m\n\u001b[1;32m    152\u001b[0m       \u001b[0mfiltered_tb\u001b[0m \u001b[0;34m=\u001b[0m \u001b[0m_process_traceback_frames\u001b[0m\u001b[0;34m(\u001b[0m\u001b[0me\u001b[0m\u001b[0;34m.\u001b[0m\u001b[0m__traceback__\u001b[0m\u001b[0;34m)\u001b[0m\u001b[0;34m\u001b[0m\u001b[0;34m\u001b[0m\u001b[0m\n",
            "\u001b[0;32m/usr/local/lib/python3.10/dist-packages/tensorflow/python/eager/polymorphic_function/polymorphic_function.py\u001b[0m in \u001b[0;36m__call__\u001b[0;34m(self, *args, **kwds)\u001b[0m\n\u001b[1;32m    830\u001b[0m \u001b[0;34m\u001b[0m\u001b[0m\n\u001b[1;32m    831\u001b[0m       \u001b[0;32mwith\u001b[0m \u001b[0mOptionalXlaContext\u001b[0m\u001b[0;34m(\u001b[0m\u001b[0mself\u001b[0m\u001b[0;34m.\u001b[0m\u001b[0m_jit_compile\u001b[0m\u001b[0;34m)\u001b[0m\u001b[0;34m:\u001b[0m\u001b[0;34m\u001b[0m\u001b[0;34m\u001b[0m\u001b[0m\n\u001b[0;32m--> 832\u001b[0;31m         \u001b[0mresult\u001b[0m \u001b[0;34m=\u001b[0m \u001b[0mself\u001b[0m\u001b[0;34m.\u001b[0m\u001b[0m_call\u001b[0m\u001b[0;34m(\u001b[0m\u001b[0;34m*\u001b[0m\u001b[0margs\u001b[0m\u001b[0;34m,\u001b[0m \u001b[0;34m**\u001b[0m\u001b[0mkwds\u001b[0m\u001b[0;34m)\u001b[0m\u001b[0;34m\u001b[0m\u001b[0;34m\u001b[0m\u001b[0m\n\u001b[0m\u001b[1;32m    833\u001b[0m \u001b[0;34m\u001b[0m\u001b[0m\n\u001b[1;32m    834\u001b[0m       \u001b[0mnew_tracing_count\u001b[0m \u001b[0;34m=\u001b[0m \u001b[0mself\u001b[0m\u001b[0;34m.\u001b[0m\u001b[0mexperimental_get_tracing_count\u001b[0m\u001b[0;34m(\u001b[0m\u001b[0;34m)\u001b[0m\u001b[0;34m\u001b[0m\u001b[0;34m\u001b[0m\u001b[0m\n",
            "\u001b[0;32m/usr/local/lib/python3.10/dist-packages/tensorflow/python/eager/polymorphic_function/polymorphic_function.py\u001b[0m in \u001b[0;36m_call\u001b[0;34m(self, *args, **kwds)\u001b[0m\n\u001b[1;32m    866\u001b[0m       \u001b[0;31m# In this case we have created variables on the first call, so we run the\u001b[0m\u001b[0;34m\u001b[0m\u001b[0;34m\u001b[0m\u001b[0m\n\u001b[1;32m    867\u001b[0m       \u001b[0;31m# defunned version which is guaranteed to never create variables.\u001b[0m\u001b[0;34m\u001b[0m\u001b[0;34m\u001b[0m\u001b[0m\n\u001b[0;32m--> 868\u001b[0;31m       return tracing_compilation.call_function(\n\u001b[0m\u001b[1;32m    869\u001b[0m           \u001b[0margs\u001b[0m\u001b[0;34m,\u001b[0m \u001b[0mkwds\u001b[0m\u001b[0;34m,\u001b[0m \u001b[0mself\u001b[0m\u001b[0;34m.\u001b[0m\u001b[0m_no_variable_creation_config\u001b[0m\u001b[0;34m\u001b[0m\u001b[0;34m\u001b[0m\u001b[0m\n\u001b[1;32m    870\u001b[0m       )\n",
            "\u001b[0;32m/usr/local/lib/python3.10/dist-packages/tensorflow/python/eager/polymorphic_function/tracing_compilation.py\u001b[0m in \u001b[0;36mcall_function\u001b[0;34m(args, kwargs, tracing_options)\u001b[0m\n\u001b[1;32m    137\u001b[0m   \u001b[0mbound_args\u001b[0m \u001b[0;34m=\u001b[0m \u001b[0mfunction\u001b[0m\u001b[0;34m.\u001b[0m\u001b[0mfunction_type\u001b[0m\u001b[0;34m.\u001b[0m\u001b[0mbind\u001b[0m\u001b[0;34m(\u001b[0m\u001b[0;34m*\u001b[0m\u001b[0margs\u001b[0m\u001b[0;34m,\u001b[0m \u001b[0;34m**\u001b[0m\u001b[0mkwargs\u001b[0m\u001b[0;34m)\u001b[0m\u001b[0;34m\u001b[0m\u001b[0;34m\u001b[0m\u001b[0m\n\u001b[1;32m    138\u001b[0m   \u001b[0mflat_inputs\u001b[0m \u001b[0;34m=\u001b[0m \u001b[0mfunction\u001b[0m\u001b[0;34m.\u001b[0m\u001b[0mfunction_type\u001b[0m\u001b[0;34m.\u001b[0m\u001b[0munpack_inputs\u001b[0m\u001b[0;34m(\u001b[0m\u001b[0mbound_args\u001b[0m\u001b[0;34m)\u001b[0m\u001b[0;34m\u001b[0m\u001b[0;34m\u001b[0m\u001b[0m\n\u001b[0;32m--> 139\u001b[0;31m   return function._call_flat(  # pylint: disable=protected-access\n\u001b[0m\u001b[1;32m    140\u001b[0m       \u001b[0mflat_inputs\u001b[0m\u001b[0;34m,\u001b[0m \u001b[0mcaptured_inputs\u001b[0m\u001b[0;34m=\u001b[0m\u001b[0mfunction\u001b[0m\u001b[0;34m.\u001b[0m\u001b[0mcaptured_inputs\u001b[0m\u001b[0;34m\u001b[0m\u001b[0;34m\u001b[0m\u001b[0m\n\u001b[1;32m    141\u001b[0m   )\n",
            "\u001b[0;32m/usr/local/lib/python3.10/dist-packages/tensorflow/python/eager/polymorphic_function/concrete_function.py\u001b[0m in \u001b[0;36m_call_flat\u001b[0;34m(self, tensor_inputs, captured_inputs)\u001b[0m\n\u001b[1;32m   1321\u001b[0m         and executing_eagerly):\n\u001b[1;32m   1322\u001b[0m       \u001b[0;31m# No tape is watching; skip to running the function.\u001b[0m\u001b[0;34m\u001b[0m\u001b[0;34m\u001b[0m\u001b[0m\n\u001b[0;32m-> 1323\u001b[0;31m       \u001b[0;32mreturn\u001b[0m \u001b[0mself\u001b[0m\u001b[0;34m.\u001b[0m\u001b[0m_inference_function\u001b[0m\u001b[0;34m.\u001b[0m\u001b[0mcall_preflattened\u001b[0m\u001b[0;34m(\u001b[0m\u001b[0margs\u001b[0m\u001b[0;34m)\u001b[0m\u001b[0;34m\u001b[0m\u001b[0;34m\u001b[0m\u001b[0m\n\u001b[0m\u001b[1;32m   1324\u001b[0m     forward_backward = self._select_forward_and_backward_functions(\n\u001b[1;32m   1325\u001b[0m         \u001b[0margs\u001b[0m\u001b[0;34m,\u001b[0m\u001b[0;34m\u001b[0m\u001b[0;34m\u001b[0m\u001b[0m\n",
            "\u001b[0;32m/usr/local/lib/python3.10/dist-packages/tensorflow/python/eager/polymorphic_function/atomic_function.py\u001b[0m in \u001b[0;36mcall_preflattened\u001b[0;34m(self, args)\u001b[0m\n\u001b[1;32m    214\u001b[0m   \u001b[0;32mdef\u001b[0m \u001b[0mcall_preflattened\u001b[0m\u001b[0;34m(\u001b[0m\u001b[0mself\u001b[0m\u001b[0;34m,\u001b[0m \u001b[0margs\u001b[0m\u001b[0;34m:\u001b[0m \u001b[0mSequence\u001b[0m\u001b[0;34m[\u001b[0m\u001b[0mcore\u001b[0m\u001b[0;34m.\u001b[0m\u001b[0mTensor\u001b[0m\u001b[0;34m]\u001b[0m\u001b[0;34m)\u001b[0m \u001b[0;34m->\u001b[0m \u001b[0mAny\u001b[0m\u001b[0;34m:\u001b[0m\u001b[0;34m\u001b[0m\u001b[0;34m\u001b[0m\u001b[0m\n\u001b[1;32m    215\u001b[0m     \u001b[0;34m\"\"\"Calls with flattened tensor inputs and returns the structured output.\"\"\"\u001b[0m\u001b[0;34m\u001b[0m\u001b[0;34m\u001b[0m\u001b[0m\n\u001b[0;32m--> 216\u001b[0;31m     \u001b[0mflat_outputs\u001b[0m \u001b[0;34m=\u001b[0m \u001b[0mself\u001b[0m\u001b[0;34m.\u001b[0m\u001b[0mcall_flat\u001b[0m\u001b[0;34m(\u001b[0m\u001b[0;34m*\u001b[0m\u001b[0margs\u001b[0m\u001b[0;34m)\u001b[0m\u001b[0;34m\u001b[0m\u001b[0;34m\u001b[0m\u001b[0m\n\u001b[0m\u001b[1;32m    217\u001b[0m     \u001b[0;32mreturn\u001b[0m \u001b[0mself\u001b[0m\u001b[0;34m.\u001b[0m\u001b[0mfunction_type\u001b[0m\u001b[0;34m.\u001b[0m\u001b[0mpack_output\u001b[0m\u001b[0;34m(\u001b[0m\u001b[0mflat_outputs\u001b[0m\u001b[0;34m)\u001b[0m\u001b[0;34m\u001b[0m\u001b[0;34m\u001b[0m\u001b[0m\n\u001b[1;32m    218\u001b[0m \u001b[0;34m\u001b[0m\u001b[0m\n",
            "\u001b[0;32m/usr/local/lib/python3.10/dist-packages/tensorflow/python/eager/polymorphic_function/atomic_function.py\u001b[0m in \u001b[0;36mcall_flat\u001b[0;34m(self, *args)\u001b[0m\n\u001b[1;32m    249\u001b[0m         \u001b[0;32mwith\u001b[0m \u001b[0mrecord\u001b[0m\u001b[0;34m.\u001b[0m\u001b[0mstop_recording\u001b[0m\u001b[0;34m(\u001b[0m\u001b[0;34m)\u001b[0m\u001b[0;34m:\u001b[0m\u001b[0;34m\u001b[0m\u001b[0;34m\u001b[0m\u001b[0m\n\u001b[1;32m    250\u001b[0m           \u001b[0;32mif\u001b[0m \u001b[0mself\u001b[0m\u001b[0;34m.\u001b[0m\u001b[0m_bound_context\u001b[0m\u001b[0;34m.\u001b[0m\u001b[0mexecuting_eagerly\u001b[0m\u001b[0;34m(\u001b[0m\u001b[0;34m)\u001b[0m\u001b[0;34m:\u001b[0m\u001b[0;34m\u001b[0m\u001b[0;34m\u001b[0m\u001b[0m\n\u001b[0;32m--> 251\u001b[0;31m             outputs = self._bound_context.call_function(\n\u001b[0m\u001b[1;32m    252\u001b[0m                 \u001b[0mself\u001b[0m\u001b[0;34m.\u001b[0m\u001b[0mname\u001b[0m\u001b[0;34m,\u001b[0m\u001b[0;34m\u001b[0m\u001b[0;34m\u001b[0m\u001b[0m\n\u001b[1;32m    253\u001b[0m                 \u001b[0mlist\u001b[0m\u001b[0;34m(\u001b[0m\u001b[0margs\u001b[0m\u001b[0;34m)\u001b[0m\u001b[0;34m,\u001b[0m\u001b[0;34m\u001b[0m\u001b[0;34m\u001b[0m\u001b[0m\n",
            "\u001b[0;32m/usr/local/lib/python3.10/dist-packages/tensorflow/python/eager/context.py\u001b[0m in \u001b[0;36mcall_function\u001b[0;34m(self, name, tensor_inputs, num_outputs)\u001b[0m\n\u001b[1;32m   1484\u001b[0m     \u001b[0mcancellation_context\u001b[0m \u001b[0;34m=\u001b[0m \u001b[0mcancellation\u001b[0m\u001b[0;34m.\u001b[0m\u001b[0mcontext\u001b[0m\u001b[0;34m(\u001b[0m\u001b[0;34m)\u001b[0m\u001b[0;34m\u001b[0m\u001b[0;34m\u001b[0m\u001b[0m\n\u001b[1;32m   1485\u001b[0m     \u001b[0;32mif\u001b[0m \u001b[0mcancellation_context\u001b[0m \u001b[0;32mis\u001b[0m \u001b[0;32mNone\u001b[0m\u001b[0;34m:\u001b[0m\u001b[0;34m\u001b[0m\u001b[0;34m\u001b[0m\u001b[0m\n\u001b[0;32m-> 1486\u001b[0;31m       outputs = execute.execute(\n\u001b[0m\u001b[1;32m   1487\u001b[0m           \u001b[0mname\u001b[0m\u001b[0;34m.\u001b[0m\u001b[0mdecode\u001b[0m\u001b[0;34m(\u001b[0m\u001b[0;34m\"utf-8\"\u001b[0m\u001b[0;34m)\u001b[0m\u001b[0;34m,\u001b[0m\u001b[0;34m\u001b[0m\u001b[0;34m\u001b[0m\u001b[0m\n\u001b[1;32m   1488\u001b[0m           \u001b[0mnum_outputs\u001b[0m\u001b[0;34m=\u001b[0m\u001b[0mnum_outputs\u001b[0m\u001b[0;34m,\u001b[0m\u001b[0;34m\u001b[0m\u001b[0;34m\u001b[0m\u001b[0m\n",
            "\u001b[0;32m/usr/local/lib/python3.10/dist-packages/tensorflow/python/eager/execute.py\u001b[0m in \u001b[0;36mquick_execute\u001b[0;34m(op_name, num_outputs, inputs, attrs, ctx, name)\u001b[0m\n\u001b[1;32m     51\u001b[0m   \u001b[0;32mtry\u001b[0m\u001b[0;34m:\u001b[0m\u001b[0;34m\u001b[0m\u001b[0;34m\u001b[0m\u001b[0m\n\u001b[1;32m     52\u001b[0m     \u001b[0mctx\u001b[0m\u001b[0;34m.\u001b[0m\u001b[0mensure_initialized\u001b[0m\u001b[0;34m(\u001b[0m\u001b[0;34m)\u001b[0m\u001b[0;34m\u001b[0m\u001b[0;34m\u001b[0m\u001b[0m\n\u001b[0;32m---> 53\u001b[0;31m     tensors = pywrap_tfe.TFE_Py_Execute(ctx._handle, device_name, op_name,\n\u001b[0m\u001b[1;32m     54\u001b[0m                                         inputs, attrs, num_outputs)\n\u001b[1;32m     55\u001b[0m   \u001b[0;32mexcept\u001b[0m \u001b[0mcore\u001b[0m\u001b[0;34m.\u001b[0m\u001b[0m_NotOkStatusException\u001b[0m \u001b[0;32mas\u001b[0m \u001b[0me\u001b[0m\u001b[0;34m:\u001b[0m\u001b[0;34m\u001b[0m\u001b[0;34m\u001b[0m\u001b[0m\n",
            "\u001b[0;31mKeyboardInterrupt\u001b[0m: "
          ]
        }
      ]
    },
    {
      "cell_type": "markdown",
      "source": [
        "## Loading Pre-trained VGG-16 model"
      ],
      "metadata": {
        "id": "R-xL7uYBYy24"
      }
    },
    {
      "cell_type": "code",
      "source": [
        "base_model = VGG16(weights='imagenet', include_top=False, input_shape=(32, 32, 3))\n",
        "base_model.summary()"
      ],
      "metadata": {
        "colab": {
          "base_uri": "https://localhost:8080/"
        },
        "id": "uGGzPfOvY5WD",
        "outputId": "89454d15-226a-4381-e1df-37c2345735a2"
      },
      "execution_count": null,
      "outputs": [
        {
          "output_type": "stream",
          "name": "stdout",
          "text": [
            "Model: \"vgg16\"\n",
            "_________________________________________________________________\n",
            " Layer (type)                Output Shape              Param #   \n",
            "=================================================================\n",
            " input_4 (InputLayer)        [(None, 32, 32, 3)]       0         \n",
            "                                                                 \n",
            " block1_conv1 (Conv2D)       (None, 32, 32, 64)        1792      \n",
            "                                                                 \n",
            " block1_conv2 (Conv2D)       (None, 32, 32, 64)        36928     \n",
            "                                                                 \n",
            " block1_pool (MaxPooling2D)  (None, 16, 16, 64)        0         \n",
            "                                                                 \n",
            " block2_conv1 (Conv2D)       (None, 16, 16, 128)       73856     \n",
            "                                                                 \n",
            " block2_conv2 (Conv2D)       (None, 16, 16, 128)       147584    \n",
            "                                                                 \n",
            " block2_pool (MaxPooling2D)  (None, 8, 8, 128)         0         \n",
            "                                                                 \n",
            " block3_conv1 (Conv2D)       (None, 8, 8, 256)         295168    \n",
            "                                                                 \n",
            " block3_conv2 (Conv2D)       (None, 8, 8, 256)         590080    \n",
            "                                                                 \n",
            " block3_conv3 (Conv2D)       (None, 8, 8, 256)         590080    \n",
            "                                                                 \n",
            " block3_pool (MaxPooling2D)  (None, 4, 4, 256)         0         \n",
            "                                                                 \n",
            " block4_conv1 (Conv2D)       (None, 4, 4, 512)         1180160   \n",
            "                                                                 \n",
            " block4_conv2 (Conv2D)       (None, 4, 4, 512)         2359808   \n",
            "                                                                 \n",
            " block4_conv3 (Conv2D)       (None, 4, 4, 512)         2359808   \n",
            "                                                                 \n",
            " block4_pool (MaxPooling2D)  (None, 2, 2, 512)         0         \n",
            "                                                                 \n",
            " block5_conv1 (Conv2D)       (None, 2, 2, 512)         2359808   \n",
            "                                                                 \n",
            " block5_conv2 (Conv2D)       (None, 2, 2, 512)         2359808   \n",
            "                                                                 \n",
            " block5_conv3 (Conv2D)       (None, 2, 2, 512)         2359808   \n",
            "                                                                 \n",
            " block5_pool (MaxPooling2D)  (None, 1, 1, 512)         0         \n",
            "                                                                 \n",
            "=================================================================\n",
            "Total params: 14714688 (56.13 MB)\n",
            "Trainable params: 14714688 (56.13 MB)\n",
            "Non-trainable params: 0 (0.00 Byte)\n",
            "_________________________________________________________________\n"
          ]
        }
      ]
    },
    {
      "cell_type": "markdown",
      "source": [
        "## Freezing the base layers"
      ],
      "metadata": {
        "id": "A9uJFSYyY9VI"
      }
    },
    {
      "cell_type": "code",
      "source": [
        "for layer in base_model.layers[:15]:\n",
        "    layer.trainable = False"
      ],
      "metadata": {
        "id": "y6ipn_XMZCtV"
      },
      "execution_count": null,
      "outputs": []
    },
    {
      "cell_type": "markdown",
      "source": [
        "## Add New Classifier Layers"
      ],
      "metadata": {
        "id": "SQA7uII1ZESD"
      }
    },
    {
      "cell_type": "code",
      "source": [
        "x = base_model.output\n",
        "x = GlobalAveragePooling2D()(x)\n",
        "x = Dropout(0.5)(x)\n",
        "x = Dense(1024, activation='relu')(x)\n",
        "predictions = Dense(10, activation='softmax')(x)\n",
        "\n",
        "model = Model(inputs=base_model.input, outputs=predictions)"
      ],
      "metadata": {
        "id": "ZQcNmm9jZIjx"
      },
      "execution_count": null,
      "outputs": []
    },
    {
      "cell_type": "markdown",
      "source": [
        "## New Model"
      ],
      "metadata": {
        "id": "mNv6cEQDZQf9"
      }
    },
    {
      "cell_type": "code",
      "source": [
        "optimizer = Adam(learning_rate=0.0001)\n",
        "model.compile(optimizer=optimizer, loss='categorical_crossentropy', metrics=['accuracy'])\n",
        "model.summary()"
      ],
      "metadata": {
        "colab": {
          "base_uri": "https://localhost:8080/"
        },
        "id": "zrsTCjiUZVNO",
        "outputId": "dc43583b-f508-4481-a298-203e2d6aa437"
      },
      "execution_count": null,
      "outputs": [
        {
          "output_type": "stream",
          "name": "stdout",
          "text": [
            "Model: \"model_1\"\n",
            "_________________________________________________________________\n",
            " Layer (type)                Output Shape              Param #   \n",
            "=================================================================\n",
            " input_4 (InputLayer)        [(None, 32, 32, 3)]       0         \n",
            "                                                                 \n",
            " block1_conv1 (Conv2D)       (None, 32, 32, 64)        1792      \n",
            "                                                                 \n",
            " block1_conv2 (Conv2D)       (None, 32, 32, 64)        36928     \n",
            "                                                                 \n",
            " block1_pool (MaxPooling2D)  (None, 16, 16, 64)        0         \n",
            "                                                                 \n",
            " block2_conv1 (Conv2D)       (None, 16, 16, 128)       73856     \n",
            "                                                                 \n",
            " block2_conv2 (Conv2D)       (None, 16, 16, 128)       147584    \n",
            "                                                                 \n",
            " block2_pool (MaxPooling2D)  (None, 8, 8, 128)         0         \n",
            "                                                                 \n",
            " block3_conv1 (Conv2D)       (None, 8, 8, 256)         295168    \n",
            "                                                                 \n",
            " block3_conv2 (Conv2D)       (None, 8, 8, 256)         590080    \n",
            "                                                                 \n",
            " block3_conv3 (Conv2D)       (None, 8, 8, 256)         590080    \n",
            "                                                                 \n",
            " block3_pool (MaxPooling2D)  (None, 4, 4, 256)         0         \n",
            "                                                                 \n",
            " block4_conv1 (Conv2D)       (None, 4, 4, 512)         1180160   \n",
            "                                                                 \n",
            " block4_conv2 (Conv2D)       (None, 4, 4, 512)         2359808   \n",
            "                                                                 \n",
            " block4_conv3 (Conv2D)       (None, 4, 4, 512)         2359808   \n",
            "                                                                 \n",
            " block4_pool (MaxPooling2D)  (None, 2, 2, 512)         0         \n",
            "                                                                 \n",
            " block5_conv1 (Conv2D)       (None, 2, 2, 512)         2359808   \n",
            "                                                                 \n",
            " block5_conv2 (Conv2D)       (None, 2, 2, 512)         2359808   \n",
            "                                                                 \n",
            " block5_conv3 (Conv2D)       (None, 2, 2, 512)         2359808   \n",
            "                                                                 \n",
            " block5_pool (MaxPooling2D)  (None, 1, 1, 512)         0         \n",
            "                                                                 \n",
            " global_average_pooling2d_1  (None, 512)               0         \n",
            "  (GlobalAveragePooling2D)                                       \n",
            "                                                                 \n",
            " dense_2 (Dense)             (None, 1024)              525312    \n",
            "                                                                 \n",
            " dense_3 (Dense)             (None, 10)                10250     \n",
            "                                                                 \n",
            "=================================================================\n",
            "Total params: 15250250 (58.18 MB)\n",
            "Trainable params: 535562 (2.04 MB)\n",
            "Non-trainable params: 14714688 (56.13 MB)\n",
            "_________________________________________________________________\n"
          ]
        }
      ]
    },
    {
      "cell_type": "markdown",
      "source": [
        "## Data Augmentation"
      ],
      "metadata": {
        "id": "AWaYrfcEI-zy"
      }
    },
    {
      "cell_type": "code",
      "source": [
        "datagen = ImageDataGenerator(\n",
        "    rotation_range=20,\n",
        "    width_shift_range=0.2,\n",
        "    height_shift_range=0.2,\n",
        "    horizontal_flip=True,\n",
        "    fill_mode='nearest'\n",
        ")"
      ],
      "metadata": {
        "id": "Ggq3_8WhJAsh"
      },
      "execution_count": null,
      "outputs": []
    },
    {
      "cell_type": "markdown",
      "source": [
        "## Fine-tuning the model"
      ],
      "metadata": {
        "id": "9raWCVvQZXzr"
      }
    },
    {
      "cell_type": "code",
      "source": [
        "batch_size = 32\n",
        "\n",
        "history = model.fit(datagen.flow(X_train, y_train, batch_size=batch_size),\n",
        "                  epochs=30,\n",
        "                  steps_per_epoch=X_train.shape[0] // batch_size,\n",
        "                  validation_data=(X_test, y_test))"
      ],
      "metadata": {
        "colab": {
          "base_uri": "https://localhost:8080/"
        },
        "id": "p_7Axe4RZiRh",
        "outputId": "ec29d7fd-2137-4078-a926-4aebb0a34454"
      },
      "execution_count": null,
      "outputs": [
        {
          "output_type": "stream",
          "name": "stdout",
          "text": [
            "Epoch 1/30\n",
            "1563/1563 [==============================] - 18s 11ms/step - loss: 1.3148 - accuracy: 0.5385 - val_loss: 1.2361 - val_accuracy: 0.5630\n",
            "Epoch 2/30\n",
            "1563/1563 [==============================] - 16s 10ms/step - loss: 1.1426 - accuracy: 0.5979 - val_loss: 1.1570 - val_accuracy: 0.5891\n",
            "Epoch 3/30\n",
            "1563/1563 [==============================] - 16s 10ms/step - loss: 1.0637 - accuracy: 0.6258 - val_loss: 1.1523 - val_accuracy: 0.5979\n",
            "Epoch 4/30\n",
            "1563/1563 [==============================] - 16s 10ms/step - loss: 1.0045 - accuracy: 0.6438 - val_loss: 1.1164 - val_accuracy: 0.6155\n",
            "Epoch 5/30\n",
            "1563/1563 [==============================] - 16s 10ms/step - loss: 0.9488 - accuracy: 0.6637 - val_loss: 1.1037 - val_accuracy: 0.6170\n",
            "Epoch 6/30\n",
            "1563/1563 [==============================] - 16s 10ms/step - loss: 0.8990 - accuracy: 0.6829 - val_loss: 1.1104 - val_accuracy: 0.6212\n",
            "Epoch 7/30\n",
            "1563/1563 [==============================] - 16s 10ms/step - loss: 0.8495 - accuracy: 0.6998 - val_loss: 1.1390 - val_accuracy: 0.6178\n",
            "Epoch 8/30\n",
            "1563/1563 [==============================] - 16s 10ms/step - loss: 0.8021 - accuracy: 0.7152 - val_loss: 1.1356 - val_accuracy: 0.6180\n",
            "Epoch 9/30\n",
            "1563/1563 [==============================] - 16s 10ms/step - loss: 0.7549 - accuracy: 0.7337 - val_loss: 1.1219 - val_accuracy: 0.6268\n",
            "Epoch 10/30\n",
            "1563/1563 [==============================] - 16s 10ms/step - loss: 0.7067 - accuracy: 0.7497 - val_loss: 1.1551 - val_accuracy: 0.6173\n",
            "Epoch 11/30\n",
            "1563/1563 [==============================] - 16s 10ms/step - loss: 0.6640 - accuracy: 0.7658 - val_loss: 1.1695 - val_accuracy: 0.6274\n",
            "Epoch 12/30\n",
            "1563/1563 [==============================] - 16s 10ms/step - loss: 0.6169 - accuracy: 0.7824 - val_loss: 1.2070 - val_accuracy: 0.6248\n",
            "Epoch 13/30\n",
            "1563/1563 [==============================] - 16s 10ms/step - loss: 0.5746 - accuracy: 0.7986 - val_loss: 1.2833 - val_accuracy: 0.6224\n",
            "Epoch 14/30\n",
            "1563/1563 [==============================] - 16s 10ms/step - loss: 0.5382 - accuracy: 0.8096 - val_loss: 1.3056 - val_accuracy: 0.6236\n",
            "Epoch 15/30\n",
            "1563/1563 [==============================] - 16s 10ms/step - loss: 0.4978 - accuracy: 0.8260 - val_loss: 1.3224 - val_accuracy: 0.6254\n",
            "Epoch 16/30\n",
            "1563/1563 [==============================] - 16s 10ms/step - loss: 0.4616 - accuracy: 0.8378 - val_loss: 1.3707 - val_accuracy: 0.6123\n",
            "Epoch 17/30\n",
            "1563/1563 [==============================] - 16s 10ms/step - loss: 0.4294 - accuracy: 0.8483 - val_loss: 1.4039 - val_accuracy: 0.6188\n",
            "Epoch 18/30\n",
            "1563/1563 [==============================] - 16s 10ms/step - loss: 0.3945 - accuracy: 0.8634 - val_loss: 1.4892 - val_accuracy: 0.6120\n",
            "Epoch 19/30\n",
            "1563/1563 [==============================] - 16s 10ms/step - loss: 0.3700 - accuracy: 0.8721 - val_loss: 1.5003 - val_accuracy: 0.6155\n",
            "Epoch 20/30\n",
            "1563/1563 [==============================] - 16s 10ms/step - loss: 0.3399 - accuracy: 0.8833 - val_loss: 1.5541 - val_accuracy: 0.6198\n",
            "Epoch 21/30\n",
            "1563/1563 [==============================] - 16s 10ms/step - loss: 0.3145 - accuracy: 0.8919 - val_loss: 1.6034 - val_accuracy: 0.6164\n",
            "Epoch 22/30\n",
            "1563/1563 [==============================] - 16s 10ms/step - loss: 0.2919 - accuracy: 0.9009 - val_loss: 1.6582 - val_accuracy: 0.6078\n",
            "Epoch 23/30\n",
            "1563/1563 [==============================] - 16s 10ms/step - loss: 0.2714 - accuracy: 0.9083 - val_loss: 1.7297 - val_accuracy: 0.6106\n",
            "Epoch 24/30\n",
            "1563/1563 [==============================] - 16s 10ms/step - loss: 0.2519 - accuracy: 0.9139 - val_loss: 1.7911 - val_accuracy: 0.6104\n",
            "Epoch 25/30\n",
            "1563/1563 [==============================] - 16s 10ms/step - loss: 0.2315 - accuracy: 0.9221 - val_loss: 1.9048 - val_accuracy: 0.6085\n",
            "Epoch 26/30\n",
            "1563/1563 [==============================] - 16s 10ms/step - loss: 0.2186 - accuracy: 0.9254 - val_loss: 1.9014 - val_accuracy: 0.6062\n",
            "Epoch 27/30\n",
            "1563/1563 [==============================] - 16s 10ms/step - loss: 0.2037 - accuracy: 0.9308 - val_loss: 1.9525 - val_accuracy: 0.6049\n",
            "Epoch 28/30\n",
            "1563/1563 [==============================] - 16s 10ms/step - loss: 0.1845 - accuracy: 0.9382 - val_loss: 2.0041 - val_accuracy: 0.6047\n",
            "Epoch 29/30\n",
            "1563/1563 [==============================] - 16s 10ms/step - loss: 0.1781 - accuracy: 0.9390 - val_loss: 2.0803 - val_accuracy: 0.6082\n",
            "Epoch 30/30\n",
            "1563/1563 [==============================] - 16s 10ms/step - loss: 0.1633 - accuracy: 0.9446 - val_loss: 2.1395 - val_accuracy: 0.6073\n"
          ]
        },
        {
          "output_type": "execute_result",
          "data": {
            "text/plain": [
              "<keras.src.callbacks.History at 0x7e72fc37fc10>"
            ]
          },
          "metadata": {},
          "execution_count": 25
        }
      ]
    },
    {
      "cell_type": "markdown",
      "source": [
        "# Training from Scratch"
      ],
      "metadata": {
        "id": "3ihVvIthaY4a"
      }
    },
    {
      "cell_type": "code",
      "source": [
        "# Model architecture\n",
        "model = Sequential([\n",
        "    Conv2D(32, (3, 3), activation='relu', input_shape=(32, 32, 3)),\n",
        "    MaxPooling2D((2, 2)),\n",
        "    Conv2D(64, (3, 3), activation='relu'),\n",
        "    MaxPooling2D((2, 2)),\n",
        "    Flatten(),\n",
        "    Dense(1024, activation='relu'),\n",
        "    Dense(10, activation='softmax')\n",
        "])\n",
        "\n",
        "model.compile(optimizer='adam', loss='categorical_crossentropy', metrics=['accuracy'])\n",
        "\n",
        "batch_size = 32\n",
        "\n",
        "model.fit(X_train, y_train,\n",
        "          epochs=30,\n",
        "          batch_size=batch_size,\n",
        "          validation_data=(X_test, y_test))\n"
      ],
      "metadata": {
        "id": "S9vnYSbRGbbT"
      },
      "execution_count": null,
      "outputs": []
    }
  ]
}